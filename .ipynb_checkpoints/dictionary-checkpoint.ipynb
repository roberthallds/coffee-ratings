{
 "cells": [
  {
   "cell_type": "markdown",
   "id": "9dcf5f20-079d-493b-9adf-a08148de8e4c",
   "metadata": {},
   "source": [
    "## Preface\n",
    "\n",
    "### Midterm Project Dataset Choice: Coffee\n",
    "We chose the coffee dataset because of our group’s history with and enjoyment of the drink.\n",
    "We also considered how we might be biased when analyzing other options.\n",
    "\n",
    "Our group approached the Coffee Quality Union's 2018 dataset with a focus on exploratory analysis to answer our profiling questions from our preliminary report, largely from correlating to final score, but with some correlations relating individual *Quality* category variables to *Location Metadat* such as Country or Region.\n",
    "We visualized and described our results to better outline the answers to these questions."
   ]
  },
  {
   "cell_type": "markdown",
   "id": "3bc3799b-0dba-4cb9-b042-8e2563adf641",
   "metadata": {},
   "source": [
    "## Data Dictionary\n",
    "We separated variables by categories defined in the original \"Coffee Quality Database\" by James LeDoux, as well as some distinctions we made from our understanding.\n",
    "\n",
    "| Quality           | Description |\n",
    "| :---------------- | :---------  |\n",
    "| Aftertaste        | The length of positive flavor (taste and aroma) qualities emanating from the back of the palate and remaining after the coffee is expectorated or swallowed. If the aftertaste were short or unpleasant, a lower score would be given. |\n",
    "| Aroma             | The smell of the coffee when infused with hot water. |\n",
    "| Acidity           | Acidity is often described as \"brightness\" when favorable or \"sour\" when unfavorable. The final score marked on the horizontal tick-mark scale should reflect the panelist's perceived quality for the Acidity relative to the expected flavor profile based on origin characteristics and/or other factors (degree of roast, intended use, etc.). Coffees expected to be high in Acidity, such as a Kenya coffee, or coffees expected to be low in Acidity, such as a Sumatra coffee, can receive equally high preference scores although their intensity rankings will be quite different. |\n",
    "| Body              |  Subfield of flavor. The score given for Flavor should account for the intensity, quality and complexity of its combined taste and aroma, experienced when the coffee is slurped into the mouth vigorously so as to involve the entire palate in the evaluation. |\n",
    "| Balance           |  Subfield of flavor. See above. |\n",
    "| Clean Cup         | The lack of interfering negative impressions from first ingestion to final aftertaste, a \"transparency\" of cup. |\n",
    "| Uniformity        | Uniformity refers to consistency of flavor of the different cups of the sample tasted. If the cups taste different, the rating of this aspect would not be as high. |\n",
    "| Sweetness         | Scalar subfield of flavor. See above. |\n",
    "| Moisture          | Subfield of flavor. Percentage format. |\n",
    "\n",
    "| Bean Metadata         | Description |\n",
    "| :-------------------- | :---------  |\n",
    "| Processing Method     |   Method for processing the beans.      |\n",
    "| Color                 |   Color of the beans.      |\n",
    "| Species               |   Either Arabica or Robusta.      |\n",
    "| Variety               |   Variety of the beans.      |\n",
    "| Quakers               |   Count of Quakers in the beans sample. Quakers are under-developed coffee beans that can impact the flavor of coffee, as they look the same as regular beans. They can taste dry, ashy, bitter, astringent, and similar to burned popcorn.      |\n",
    "| Category One Defects  |   \"Category 1\" defects are considered primary defects that significantly impact the taste of the coffee, like fully black beans, full sour beans, or pods.      |\n",
    "| Category Two Defects  |   \"Category 2\" defects are secondary defects that have a less severe impact on taste, including things like broken beans, small sticks, or partial black beans.      |\n",
    "| # of Bags             |   Number of bags tested.      |\n",
    "| Bag Weight            |   Bag weight tested.      |\n",
    "| Grading Date          |   When the beans were graded.      |\n",
    "| Expiration Date       |   Expiration date of the beans.      |\n",
    "\n",
    "| Location Metadata | Description |\n",
    "| :---------------- | :---------  |\n",
    "| Owner             |   Who owns the beans.      |\n",
    "| Country           |   Where the beans came from.      |\n",
    "| Region            |   Region where beans came from.      |\n",
    "| Company           |   Name of the company that managed the beans.      |\n",
    "| Farm              |   Name of the farm that grew the beans.      |\n",
    "| Producer          |   Producer of the roasted bean.       |\n",
    "| Lot               |   Lot number of the tested beans.      |\n",
    "| Mill              |   Mill where the beans were processed.      |\n",
    "| Altitude (Low, High, Mean)         |  Altitude low, high, and mean meters.      |\n",
    "\n",
    "| Q Grader Metadata   | Description |\n",
    "| :----------------   | :---------  |\n",
    "| Certification Body  |   Who certified the sample grade.      |\n",
    "| ICO Number          |   International Coffee Organization number.      |\n",
    "| Unit of Measurement |   Unit of measurement.      |"
   ]
  },
  {
   "cell_type": "code",
   "execution_count": null,
   "id": "dd2fd442-7f13-4628-b3ee-460799d271b9",
   "metadata": {},
   "outputs": [],
   "source": []
  }
 ],
 "metadata": {
  "kernelspec": {
   "display_name": "Python 3 (ipykernel)",
   "language": "python",
   "name": "python3"
  },
  "language_info": {
   "codemirror_mode": {
    "name": "ipython",
    "version": 3
   },
   "file_extension": ".py",
   "mimetype": "text/x-python",
   "name": "python",
   "nbconvert_exporter": "python",
   "pygments_lexer": "ipython3",
   "version": "3.12.4"
  }
 },
 "nbformat": 4,
 "nbformat_minor": 5
}
