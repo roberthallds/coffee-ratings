{
 "cells": [
  {
   "cell_type": "markdown",
   "metadata": {},
   "source": [
    "# Data Cleaning and Analysis of Various Strains of Coffee using Python\n",
    "\n",
    "A project for course \"Data Exploration using Python\" (STA 4243) at the University of Texas at San Antonio (UTSA)"
   ]
  },
  {
   "cell_type": "code",
   "execution_count": null,
   "metadata": {},
   "outputs": [],
   "source": []
  }
 ],
 "metadata": {
  "language_info": {
   "name": "python"
  }
 },
 "nbformat": 4,
 "nbformat_minor": 2
}
