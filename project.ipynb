{
 "cells": [
  {
   "cell_type": "markdown",
   "metadata": {},
   "source": [
    "# Data Cleaning and Analysis of Various Strains of Coffee using Python\n",
    "\n",
    "A project for course \"Data Exploration using Python\" (STA 4243) at the University of Texas at San Antonio (UTSA)\n",
    "\n",
    "Participants: Robert Hall, Max Moran, Ryan Berberek, Dulce Ximena Cid Sanabria"
   ]
  },
  {
   "cell_type": "markdown",
   "metadata": {},
   "source": [
    "## Table of Contents\n",
    "\n",
    "1. Data and Library Importation\n",
    "2. Exploratory Data Analysis & Cleaning\n",
    "3. What palate-related variable has the highest correlation with score?\n",
    "4. Are there statistically significant diferences in palate-related quantifications with respect to diferent countries of origin?\n",
    "5. Is there a correlation between altitude and certain taste quantifications?"
   ]
  },
  {
   "cell_type": "markdown",
   "metadata": {},
   "source": [
    "## Data and Library Importation"
   ]
  },
  {
   "cell_type": "code",
   "execution_count": 60,
   "metadata": {},
   "outputs": [],
   "source": [
    "import pandas as pd\n",
    "coffee = pd.read_csv('coffee_ratings.csv')"
   ]
  },
  {
   "cell_type": "code",
   "execution_count": 61,
   "metadata": {},
   "outputs": [
    {
     "data": {
      "text/html": [
       "<div>\n",
       "<style scoped>\n",
       "    .dataframe tbody tr th:only-of-type {\n",
       "        vertical-align: middle;\n",
       "    }\n",
       "\n",
       "    .dataframe tbody tr th {\n",
       "        vertical-align: top;\n",
       "    }\n",
       "\n",
       "    .dataframe thead th {\n",
       "        text-align: right;\n",
       "    }\n",
       "</style>\n",
       "<table border=\"1\" class=\"dataframe\">\n",
       "  <thead>\n",
       "    <tr style=\"text-align: right;\">\n",
       "      <th></th>\n",
       "      <th>total_cup_points</th>\n",
       "      <th>species</th>\n",
       "      <th>owner</th>\n",
       "      <th>country_of_origin</th>\n",
       "      <th>farm_name</th>\n",
       "      <th>lot_number</th>\n",
       "      <th>mill</th>\n",
       "      <th>ico_number</th>\n",
       "      <th>company</th>\n",
       "      <th>altitude</th>\n",
       "      <th>...</th>\n",
       "      <th>color</th>\n",
       "      <th>category_two_defects</th>\n",
       "      <th>expiration</th>\n",
       "      <th>certification_body</th>\n",
       "      <th>certification_address</th>\n",
       "      <th>certification_contact</th>\n",
       "      <th>unit_of_measurement</th>\n",
       "      <th>altitude_low_meters</th>\n",
       "      <th>altitude_high_meters</th>\n",
       "      <th>altitude_mean_meters</th>\n",
       "    </tr>\n",
       "  </thead>\n",
       "  <tbody>\n",
       "    <tr>\n",
       "      <th>0</th>\n",
       "      <td>90.58</td>\n",
       "      <td>Arabica</td>\n",
       "      <td>metad plc</td>\n",
       "      <td>Ethiopia</td>\n",
       "      <td>metad plc</td>\n",
       "      <td>NaN</td>\n",
       "      <td>metad plc</td>\n",
       "      <td>2014/2015</td>\n",
       "      <td>metad agricultural developmet plc</td>\n",
       "      <td>1950-2200</td>\n",
       "      <td>...</td>\n",
       "      <td>Green</td>\n",
       "      <td>0</td>\n",
       "      <td>April 3rd, 2016</td>\n",
       "      <td>METAD Agricultural Development plc</td>\n",
       "      <td>309fcf77415a3661ae83e027f7e5f05dad786e44</td>\n",
       "      <td>19fef5a731de2db57d16da10287413f5f99bc2dd</td>\n",
       "      <td>m</td>\n",
       "      <td>1950.0</td>\n",
       "      <td>2200.0</td>\n",
       "      <td>2075.0</td>\n",
       "    </tr>\n",
       "    <tr>\n",
       "      <th>1</th>\n",
       "      <td>89.92</td>\n",
       "      <td>Arabica</td>\n",
       "      <td>metad plc</td>\n",
       "      <td>Ethiopia</td>\n",
       "      <td>metad plc</td>\n",
       "      <td>NaN</td>\n",
       "      <td>metad plc</td>\n",
       "      <td>2014/2015</td>\n",
       "      <td>metad agricultural developmet plc</td>\n",
       "      <td>1950-2200</td>\n",
       "      <td>...</td>\n",
       "      <td>Green</td>\n",
       "      <td>1</td>\n",
       "      <td>April 3rd, 2016</td>\n",
       "      <td>METAD Agricultural Development plc</td>\n",
       "      <td>309fcf77415a3661ae83e027f7e5f05dad786e44</td>\n",
       "      <td>19fef5a731de2db57d16da10287413f5f99bc2dd</td>\n",
       "      <td>m</td>\n",
       "      <td>1950.0</td>\n",
       "      <td>2200.0</td>\n",
       "      <td>2075.0</td>\n",
       "    </tr>\n",
       "    <tr>\n",
       "      <th>2</th>\n",
       "      <td>89.75</td>\n",
       "      <td>Arabica</td>\n",
       "      <td>grounds for health admin</td>\n",
       "      <td>Guatemala</td>\n",
       "      <td>san marcos barrancas \"san cristobal cuch</td>\n",
       "      <td>NaN</td>\n",
       "      <td>NaN</td>\n",
       "      <td>NaN</td>\n",
       "      <td>NaN</td>\n",
       "      <td>1600 - 1800 m</td>\n",
       "      <td>...</td>\n",
       "      <td>NaN</td>\n",
       "      <td>0</td>\n",
       "      <td>May 31st, 2011</td>\n",
       "      <td>Specialty Coffee Association</td>\n",
       "      <td>36d0d00a3724338ba7937c52a378d085f2172daa</td>\n",
       "      <td>0878a7d4b9d35ddbf0fe2ce69a2062cceb45a660</td>\n",
       "      <td>m</td>\n",
       "      <td>1600.0</td>\n",
       "      <td>1800.0</td>\n",
       "      <td>1700.0</td>\n",
       "    </tr>\n",
       "    <tr>\n",
       "      <th>3</th>\n",
       "      <td>89.00</td>\n",
       "      <td>Arabica</td>\n",
       "      <td>yidnekachew dabessa</td>\n",
       "      <td>Ethiopia</td>\n",
       "      <td>yidnekachew dabessa coffee plantation</td>\n",
       "      <td>NaN</td>\n",
       "      <td>wolensu</td>\n",
       "      <td>NaN</td>\n",
       "      <td>yidnekachew debessa coffee plantation</td>\n",
       "      <td>1800-2200</td>\n",
       "      <td>...</td>\n",
       "      <td>Green</td>\n",
       "      <td>2</td>\n",
       "      <td>March 25th, 2016</td>\n",
       "      <td>METAD Agricultural Development plc</td>\n",
       "      <td>309fcf77415a3661ae83e027f7e5f05dad786e44</td>\n",
       "      <td>19fef5a731de2db57d16da10287413f5f99bc2dd</td>\n",
       "      <td>m</td>\n",
       "      <td>1800.0</td>\n",
       "      <td>2200.0</td>\n",
       "      <td>2000.0</td>\n",
       "    </tr>\n",
       "    <tr>\n",
       "      <th>4</th>\n",
       "      <td>88.83</td>\n",
       "      <td>Arabica</td>\n",
       "      <td>metad plc</td>\n",
       "      <td>Ethiopia</td>\n",
       "      <td>metad plc</td>\n",
       "      <td>NaN</td>\n",
       "      <td>metad plc</td>\n",
       "      <td>2014/2015</td>\n",
       "      <td>metad agricultural developmet plc</td>\n",
       "      <td>1950-2200</td>\n",
       "      <td>...</td>\n",
       "      <td>Green</td>\n",
       "      <td>2</td>\n",
       "      <td>April 3rd, 2016</td>\n",
       "      <td>METAD Agricultural Development plc</td>\n",
       "      <td>309fcf77415a3661ae83e027f7e5f05dad786e44</td>\n",
       "      <td>19fef5a731de2db57d16da10287413f5f99bc2dd</td>\n",
       "      <td>m</td>\n",
       "      <td>1950.0</td>\n",
       "      <td>2200.0</td>\n",
       "      <td>2075.0</td>\n",
       "    </tr>\n",
       "  </tbody>\n",
       "</table>\n",
       "<p>5 rows × 43 columns</p>\n",
       "</div>"
      ],
      "text/plain": [
       "   total_cup_points  species                     owner country_of_origin  \\\n",
       "0             90.58  Arabica                 metad plc          Ethiopia   \n",
       "1             89.92  Arabica                 metad plc          Ethiopia   \n",
       "2             89.75  Arabica  grounds for health admin         Guatemala   \n",
       "3             89.00  Arabica       yidnekachew dabessa          Ethiopia   \n",
       "4             88.83  Arabica                 metad plc          Ethiopia   \n",
       "\n",
       "                                  farm_name lot_number       mill ico_number  \\\n",
       "0                                 metad plc        NaN  metad plc  2014/2015   \n",
       "1                                 metad plc        NaN  metad plc  2014/2015   \n",
       "2  san marcos barrancas \"san cristobal cuch        NaN        NaN        NaN   \n",
       "3     yidnekachew dabessa coffee plantation        NaN    wolensu        NaN   \n",
       "4                                 metad plc        NaN  metad plc  2014/2015   \n",
       "\n",
       "                                 company       altitude  ...  color  \\\n",
       "0      metad agricultural developmet plc      1950-2200  ...  Green   \n",
       "1      metad agricultural developmet plc      1950-2200  ...  Green   \n",
       "2                                    NaN  1600 - 1800 m  ...    NaN   \n",
       "3  yidnekachew debessa coffee plantation      1800-2200  ...  Green   \n",
       "4      metad agricultural developmet plc      1950-2200  ...  Green   \n",
       "\n",
       "  category_two_defects        expiration                  certification_body  \\\n",
       "0                    0   April 3rd, 2016  METAD Agricultural Development plc   \n",
       "1                    1   April 3rd, 2016  METAD Agricultural Development plc   \n",
       "2                    0    May 31st, 2011        Specialty Coffee Association   \n",
       "3                    2  March 25th, 2016  METAD Agricultural Development plc   \n",
       "4                    2   April 3rd, 2016  METAD Agricultural Development plc   \n",
       "\n",
       "                      certification_address  \\\n",
       "0  309fcf77415a3661ae83e027f7e5f05dad786e44   \n",
       "1  309fcf77415a3661ae83e027f7e5f05dad786e44   \n",
       "2  36d0d00a3724338ba7937c52a378d085f2172daa   \n",
       "3  309fcf77415a3661ae83e027f7e5f05dad786e44   \n",
       "4  309fcf77415a3661ae83e027f7e5f05dad786e44   \n",
       "\n",
       "                      certification_contact unit_of_measurement  \\\n",
       "0  19fef5a731de2db57d16da10287413f5f99bc2dd                   m   \n",
       "1  19fef5a731de2db57d16da10287413f5f99bc2dd                   m   \n",
       "2  0878a7d4b9d35ddbf0fe2ce69a2062cceb45a660                   m   \n",
       "3  19fef5a731de2db57d16da10287413f5f99bc2dd                   m   \n",
       "4  19fef5a731de2db57d16da10287413f5f99bc2dd                   m   \n",
       "\n",
       "  altitude_low_meters altitude_high_meters altitude_mean_meters  \n",
       "0              1950.0               2200.0               2075.0  \n",
       "1              1950.0               2200.0               2075.0  \n",
       "2              1600.0               1800.0               1700.0  \n",
       "3              1800.0               2200.0               2000.0  \n",
       "4              1950.0               2200.0               2075.0  \n",
       "\n",
       "[5 rows x 43 columns]"
      ]
     },
     "execution_count": 61,
     "metadata": {},
     "output_type": "execute_result"
    }
   ],
   "source": [
    "coffee.head()"
   ]
  },
  {
   "cell_type": "markdown",
   "metadata": {},
   "source": [
    "## Exploratory Data Analysis"
   ]
  },
  {
   "cell_type": "code",
   "execution_count": 62,
   "metadata": {},
   "outputs": [
    {
     "data": {
      "text/plain": [
       "total_cup_points         float64\n",
       "species                   object\n",
       "owner                     object\n",
       "country_of_origin         object\n",
       "farm_name                 object\n",
       "lot_number                object\n",
       "mill                      object\n",
       "ico_number                object\n",
       "company                   object\n",
       "altitude                  object\n",
       "region                    object\n",
       "producer                  object\n",
       "number_of_bags             int64\n",
       "bag_weight                object\n",
       "in_country_partner        object\n",
       "harvest_year              object\n",
       "grading_date              object\n",
       "owner_1                   object\n",
       "variety                   object\n",
       "processing_method         object\n",
       "aroma                    float64\n",
       "flavor                   float64\n",
       "aftertaste               float64\n",
       "acidity                  float64\n",
       "body                     float64\n",
       "balance                  float64\n",
       "uniformity               float64\n",
       "clean_cup                float64\n",
       "sweetness                float64\n",
       "cupper_points            float64\n",
       "moisture                 float64\n",
       "category_one_defects       int64\n",
       "quakers                  float64\n",
       "color                     object\n",
       "category_two_defects       int64\n",
       "expiration                object\n",
       "certification_body        object\n",
       "certification_address     object\n",
       "certification_contact     object\n",
       "unit_of_measurement       object\n",
       "altitude_low_meters      float64\n",
       "altitude_high_meters     float64\n",
       "altitude_mean_meters     float64\n",
       "dtype: object"
      ]
     },
     "execution_count": 62,
     "metadata": {},
     "output_type": "execute_result"
    }
   ],
   "source": [
    "coffee.dtypes"
   ]
  },
  {
   "cell_type": "code",
   "execution_count": 63,
   "metadata": {},
   "outputs": [
    {
     "data": {
      "text/plain": [
       "Index(['total_cup_points', 'species', 'owner', 'country_of_origin',\n",
       "       'farm_name', 'lot_number', 'mill', 'ico_number', 'company', 'altitude',\n",
       "       'region', 'producer', 'number_of_bags', 'bag_weight',\n",
       "       'in_country_partner', 'harvest_year', 'grading_date', 'owner_1',\n",
       "       'variety', 'processing_method', 'aroma', 'flavor', 'aftertaste',\n",
       "       'acidity', 'body', 'balance', 'uniformity', 'clean_cup', 'sweetness',\n",
       "       'cupper_points', 'moisture', 'category_one_defects', 'quakers', 'color',\n",
       "       'category_two_defects', 'expiration', 'certification_body',\n",
       "       'certification_address', 'certification_contact', 'unit_of_measurement',\n",
       "       'altitude_low_meters', 'altitude_high_meters', 'altitude_mean_meters'],\n",
       "      dtype='object')"
      ]
     },
     "execution_count": 63,
     "metadata": {},
     "output_type": "execute_result"
    }
   ],
   "source": [
    "coffee.columns"
   ]
  },
  {
   "cell_type": "code",
   "execution_count": 64,
   "metadata": {},
   "outputs": [
    {
     "name": "stdout",
     "output_type": "stream",
     "text": [
      "Column total_cup_points Maximum: 90.58\n",
      "Column total_cup_points Minimum: 0.0\n",
      "\n",
      "\n",
      "Column number_of_bags Maximum: 1062\n",
      "Column number_of_bags Minimum: 0\n",
      "\n",
      "\n",
      "Column aroma Maximum: 8.75\n",
      "Column aroma Minimum: 0.0\n",
      "\n",
      "\n",
      "Column flavor Maximum: 8.83\n",
      "Column flavor Minimum: 0.0\n",
      "\n",
      "\n",
      "Column aftertaste Maximum: 8.67\n",
      "Column aftertaste Minimum: 0.0\n",
      "\n",
      "\n",
      "Column acidity Maximum: 8.75\n",
      "Column acidity Minimum: 0.0\n",
      "\n",
      "\n",
      "Column body Maximum: 8.58\n",
      "Column body Minimum: 0.0\n",
      "\n",
      "\n",
      "Column balance Maximum: 8.75\n",
      "Column balance Minimum: 0.0\n",
      "\n",
      "\n",
      "Column uniformity Maximum: 10.0\n",
      "Column uniformity Minimum: 0.0\n",
      "\n",
      "\n",
      "Column clean_cup Maximum: 10.0\n",
      "Column clean_cup Minimum: 0.0\n",
      "\n",
      "\n",
      "Column sweetness Maximum: 10.0\n",
      "Column sweetness Minimum: 0.0\n",
      "\n",
      "\n",
      "Column cupper_points Maximum: 10.0\n",
      "Column cupper_points Minimum: 0.0\n",
      "\n",
      "\n",
      "Column moisture Maximum: 0.28\n",
      "Column moisture Minimum: 0.0\n",
      "\n",
      "\n",
      "Column category_one_defects Maximum: 63\n",
      "Column category_one_defects Minimum: 0\n",
      "\n",
      "\n",
      "Column quakers Maximum: 11.0\n",
      "Column quakers Minimum: 0.0\n",
      "\n",
      "\n",
      "Column category_two_defects Maximum: 55\n",
      "Column category_two_defects Minimum: 0\n",
      "\n",
      "\n",
      "Column altitude_low_meters Maximum: 190164.0\n",
      "Column altitude_low_meters Minimum: 1.0\n",
      "\n",
      "\n",
      "Column altitude_high_meters Maximum: 190164.0\n",
      "Column altitude_high_meters Minimum: 1.0\n",
      "\n",
      "\n",
      "Column altitude_mean_meters Maximum: 190164.0\n",
      "Column altitude_mean_meters Minimum: 1.0\n",
      "\n",
      "\n"
     ]
    }
   ],
   "source": [
    "for i in coffee.columns:\n",
    "    if pd.api.types.is_numeric_dtype(coffee[str(i)]):\n",
    "        print(f\"Column {str(i)} Maximum: {coffee[str(i)].max()}\")\n",
    "        print(f\"Column {str(i)} Minimum: {coffee[str(i)].min()}\")\n",
    "        print('\\n')\n",
    "    else:\n",
    "        continue\n"
   ]
  },
  {
   "cell_type": "code",
   "execution_count": 65,
   "metadata": {},
   "outputs": [
    {
     "name": "stdout",
     "output_type": "stream",
     "text": [
      "species\n",
      "Arabica    1311\n",
      "Robusta      28\n",
      "Name: count, dtype: int64\n"
     ]
    }
   ],
   "source": [
    "print(coffee['species'].value_counts())"
   ]
  },
  {
   "cell_type": "markdown",
   "metadata": {},
   "source": [
    "## What palate-related variable has the highest correlation with score?"
   ]
  },
  {
   "cell_type": "markdown",
   "metadata": {},
   "source": [
    "### Features:\n",
    "\n",
    "- Aftertaste \n",
    "- Aroma \n",
    "- Acidity \n",
    "- Body \n",
    "- Balance \n",
    "- Clean Cup \n",
    "- Uniformity \n",
    "- Sweetness\n",
    "- Moisture"
   ]
  },
  {
   "cell_type": "code",
   "execution_count": 66,
   "metadata": {},
   "outputs": [
    {
     "data": {
      "text/plain": [
       "Index(['total_cup_points', 'species', 'owner', 'country_of_origin',\n",
       "       'farm_name', 'lot_number', 'mill', 'ico_number', 'company', 'altitude',\n",
       "       'region', 'producer', 'number_of_bags', 'bag_weight',\n",
       "       'in_country_partner', 'harvest_year', 'grading_date', 'owner_1',\n",
       "       'variety', 'processing_method', 'aroma', 'flavor', 'aftertaste',\n",
       "       'acidity', 'body', 'balance', 'uniformity', 'clean_cup', 'sweetness',\n",
       "       'cupper_points', 'moisture', 'category_one_defects', 'quakers', 'color',\n",
       "       'category_two_defects', 'expiration', 'certification_body',\n",
       "       'certification_address', 'certification_contact', 'unit_of_measurement',\n",
       "       'altitude_low_meters', 'altitude_high_meters', 'altitude_mean_meters'],\n",
       "      dtype='object')"
      ]
     },
     "execution_count": 66,
     "metadata": {},
     "output_type": "execute_result"
    }
   ],
   "source": [
    "coffee.columns"
   ]
  },
  {
   "cell_type": "code",
   "execution_count": 67,
   "metadata": {},
   "outputs": [],
   "source": [
    "coffee_salient = coffee[['total_cup_points', 'aftertaste', 'aroma', 'acidity', 'body', 'balance', 'clean_cup', 'uniformity', 'sweetness', 'moisture']]"
   ]
  },
  {
   "cell_type": "code",
   "execution_count": 68,
   "metadata": {},
   "outputs": [
    {
     "data": {
      "text/html": [
       "<div>\n",
       "<style scoped>\n",
       "    .dataframe tbody tr th:only-of-type {\n",
       "        vertical-align: middle;\n",
       "    }\n",
       "\n",
       "    .dataframe tbody tr th {\n",
       "        vertical-align: top;\n",
       "    }\n",
       "\n",
       "    .dataframe thead th {\n",
       "        text-align: right;\n",
       "    }\n",
       "</style>\n",
       "<table border=\"1\" class=\"dataframe\">\n",
       "  <thead>\n",
       "    <tr style=\"text-align: right;\">\n",
       "      <th></th>\n",
       "      <th>total_cup_points</th>\n",
       "      <th>aftertaste</th>\n",
       "      <th>aroma</th>\n",
       "      <th>acidity</th>\n",
       "      <th>body</th>\n",
       "      <th>balance</th>\n",
       "      <th>clean_cup</th>\n",
       "      <th>uniformity</th>\n",
       "      <th>sweetness</th>\n",
       "      <th>moisture</th>\n",
       "    </tr>\n",
       "  </thead>\n",
       "  <tbody>\n",
       "    <tr>\n",
       "      <th>0</th>\n",
       "      <td>90.58</td>\n",
       "      <td>8.67</td>\n",
       "      <td>8.67</td>\n",
       "      <td>8.75</td>\n",
       "      <td>8.50</td>\n",
       "      <td>8.42</td>\n",
       "      <td>10.0</td>\n",
       "      <td>10.0</td>\n",
       "      <td>10.0</td>\n",
       "      <td>0.12</td>\n",
       "    </tr>\n",
       "    <tr>\n",
       "      <th>1</th>\n",
       "      <td>89.92</td>\n",
       "      <td>8.50</td>\n",
       "      <td>8.75</td>\n",
       "      <td>8.58</td>\n",
       "      <td>8.42</td>\n",
       "      <td>8.42</td>\n",
       "      <td>10.0</td>\n",
       "      <td>10.0</td>\n",
       "      <td>10.0</td>\n",
       "      <td>0.12</td>\n",
       "    </tr>\n",
       "    <tr>\n",
       "      <th>2</th>\n",
       "      <td>89.75</td>\n",
       "      <td>8.42</td>\n",
       "      <td>8.42</td>\n",
       "      <td>8.42</td>\n",
       "      <td>8.33</td>\n",
       "      <td>8.42</td>\n",
       "      <td>10.0</td>\n",
       "      <td>10.0</td>\n",
       "      <td>10.0</td>\n",
       "      <td>0.00</td>\n",
       "    </tr>\n",
       "    <tr>\n",
       "      <th>3</th>\n",
       "      <td>89.00</td>\n",
       "      <td>8.42</td>\n",
       "      <td>8.17</td>\n",
       "      <td>8.42</td>\n",
       "      <td>8.50</td>\n",
       "      <td>8.25</td>\n",
       "      <td>10.0</td>\n",
       "      <td>10.0</td>\n",
       "      <td>10.0</td>\n",
       "      <td>0.11</td>\n",
       "    </tr>\n",
       "    <tr>\n",
       "      <th>4</th>\n",
       "      <td>88.83</td>\n",
       "      <td>8.25</td>\n",
       "      <td>8.25</td>\n",
       "      <td>8.50</td>\n",
       "      <td>8.42</td>\n",
       "      <td>8.33</td>\n",
       "      <td>10.0</td>\n",
       "      <td>10.0</td>\n",
       "      <td>10.0</td>\n",
       "      <td>0.12</td>\n",
       "    </tr>\n",
       "  </tbody>\n",
       "</table>\n",
       "</div>"
      ],
      "text/plain": [
       "   total_cup_points  aftertaste  aroma  acidity  body  balance  clean_cup  \\\n",
       "0             90.58        8.67   8.67     8.75  8.50     8.42       10.0   \n",
       "1             89.92        8.50   8.75     8.58  8.42     8.42       10.0   \n",
       "2             89.75        8.42   8.42     8.42  8.33     8.42       10.0   \n",
       "3             89.00        8.42   8.17     8.42  8.50     8.25       10.0   \n",
       "4             88.83        8.25   8.25     8.50  8.42     8.33       10.0   \n",
       "\n",
       "   uniformity  sweetness  moisture  \n",
       "0        10.0       10.0      0.12  \n",
       "1        10.0       10.0      0.12  \n",
       "2        10.0       10.0      0.00  \n",
       "3        10.0       10.0      0.11  \n",
       "4        10.0       10.0      0.12  "
      ]
     },
     "execution_count": 68,
     "metadata": {},
     "output_type": "execute_result"
    }
   ],
   "source": [
    "coffee_salient.head()"
   ]
  },
  {
   "cell_type": "code",
   "execution_count": 69,
   "metadata": {},
   "outputs": [
    {
     "data": {
      "text/plain": [
       "total_cup_points    0\n",
       "aftertaste          0\n",
       "aroma               0\n",
       "acidity             0\n",
       "body                0\n",
       "balance             0\n",
       "clean_cup           0\n",
       "uniformity          0\n",
       "sweetness           0\n",
       "moisture            0\n",
       "dtype: int64"
      ]
     },
     "execution_count": 69,
     "metadata": {},
     "output_type": "execute_result"
    }
   ],
   "source": [
    "coffee_salient.isnull().sum()"
   ]
  },
  {
   "cell_type": "code",
   "execution_count": 70,
   "metadata": {},
   "outputs": [],
   "source": [
    "features = coffee_salient[['aftertaste', 'aroma', 'acidity', 'body', 'balance', 'clean_cup', 'uniformity', 'sweetness', 'moisture']]\n",
    "labels = coffee_salient[['total_cup_points']]"
   ]
  },
  {
   "cell_type": "code",
   "execution_count": 71,
   "metadata": {},
   "outputs": [],
   "source": [
    "from sklearn.model_selection import train_test_split\n",
    "x_train, x_test, y_train, y_test = train_test_split(features, labels, train_size=0.8, test_size=0.2)"
   ]
  },
  {
   "cell_type": "code",
   "execution_count": 72,
   "metadata": {},
   "outputs": [],
   "source": [
    "from sklearn.linear_model import LinearRegression\n",
    "mlr = LinearRegression()\n",
    "model = mlr.fit(x_train, y_train)\n",
    "points_pred = model.predict(x_test)"
   ]
  },
  {
   "cell_type": "code",
   "execution_count": 73,
   "metadata": {},
   "outputs": [
    {
     "name": "stdout",
     "output_type": "stream",
     "text": [
      "Index(['aftertaste', 'aroma', 'acidity', 'body', 'balance', 'clean_cup',\n",
      "       'uniformity', 'sweetness', 'moisture'],\n",
      "      dtype='object')\n"
     ]
    }
   ],
   "source": [
    "print(features.columns)\n"
   ]
  },
  {
   "cell_type": "code",
   "execution_count": 74,
   "metadata": {},
   "outputs": [
    {
     "name": "stdout",
     "output_type": "stream",
     "text": [
      "[[ 2.00400516  1.37028995  1.35722394  1.01813385  1.25146642  1.07020813\n",
      "   1.02907161  0.95320076 -0.35219   ]]\n"
     ]
    }
   ],
   "source": [
    "print(model.coef_)"
   ]
  },
  {
   "cell_type": "code",
   "execution_count": 75,
   "metadata": {},
   "outputs": [
    {
     "name": "stdout",
     "output_type": "stream",
     "text": [
      "[2.004, 1.3703, 1.3572, 1.0181, 1.2515, 1.0702, 1.0291, 0.9532, -0.3522]\n",
      "['aftertaste', 'aroma', 'acidity', 'body', 'balance', 'clean_cup', 'uniformity', 'sweetness', 'moisture']\n"
     ]
    },
    {
     "data": {
      "text/html": [
       "<div>\n",
       "<style scoped>\n",
       "    .dataframe tbody tr th:only-of-type {\n",
       "        vertical-align: middle;\n",
       "    }\n",
       "\n",
       "    .dataframe tbody tr th {\n",
       "        vertical-align: top;\n",
       "    }\n",
       "\n",
       "    .dataframe thead th {\n",
       "        text-align: right;\n",
       "    }\n",
       "</style>\n",
       "<table border=\"1\" class=\"dataframe\">\n",
       "  <thead>\n",
       "    <tr style=\"text-align: right;\">\n",
       "      <th></th>\n",
       "      <th>features</th>\n",
       "      <th>coefficients</th>\n",
       "    </tr>\n",
       "  </thead>\n",
       "  <tbody>\n",
       "    <tr>\n",
       "      <th>0</th>\n",
       "      <td>aftertaste</td>\n",
       "      <td>2.0040</td>\n",
       "    </tr>\n",
       "    <tr>\n",
       "      <th>1</th>\n",
       "      <td>aroma</td>\n",
       "      <td>1.3703</td>\n",
       "    </tr>\n",
       "    <tr>\n",
       "      <th>2</th>\n",
       "      <td>acidity</td>\n",
       "      <td>1.3572</td>\n",
       "    </tr>\n",
       "    <tr>\n",
       "      <th>3</th>\n",
       "      <td>body</td>\n",
       "      <td>1.0181</td>\n",
       "    </tr>\n",
       "    <tr>\n",
       "      <th>4</th>\n",
       "      <td>balance</td>\n",
       "      <td>1.2515</td>\n",
       "    </tr>\n",
       "    <tr>\n",
       "      <th>5</th>\n",
       "      <td>clean_cup</td>\n",
       "      <td>1.0702</td>\n",
       "    </tr>\n",
       "    <tr>\n",
       "      <th>6</th>\n",
       "      <td>uniformity</td>\n",
       "      <td>1.0291</td>\n",
       "    </tr>\n",
       "    <tr>\n",
       "      <th>7</th>\n",
       "      <td>sweetness</td>\n",
       "      <td>0.9532</td>\n",
       "    </tr>\n",
       "    <tr>\n",
       "      <th>8</th>\n",
       "      <td>moisture</td>\n",
       "      <td>-0.3522</td>\n",
       "    </tr>\n",
       "  </tbody>\n",
       "</table>\n",
       "</div>"
      ],
      "text/plain": [
       "     features  coefficients\n",
       "0  aftertaste        2.0040\n",
       "1       aroma        1.3703\n",
       "2     acidity        1.3572\n",
       "3        body        1.0181\n",
       "4     balance        1.2515\n",
       "5   clean_cup        1.0702\n",
       "6  uniformity        1.0291\n",
       "7   sweetness        0.9532\n",
       "8    moisture       -0.3522"
      ]
     },
     "execution_count": 75,
     "metadata": {},
     "output_type": "execute_result"
    }
   ],
   "source": [
    "coefs = []\n",
    "for subset in model.coef_:\n",
    "    for coef in subset:\n",
    "        coefs.append(round(coef, 4))\n",
    "\n",
    "print(coefs)\n",
    "\n",
    "cols = [col for col in features.columns]\n",
    "print(cols)\n",
    "\n",
    "feature_coefs = pd.DataFrame({'features': cols,\n",
    "                              'coefficients': coefs})\n",
    "\n",
    "feature_coefs.sort_values('coefficients', ascending=False)\n",
    "feature_coefs"
   ]
  },
  {
   "cell_type": "markdown",
   "metadata": {},
   "source": [
    "## Are there statistically significant diferences in palate-related quantifications with respect to diferent countries of origin?"
   ]
  },
  {
   "cell_type": "markdown",
   "metadata": {},
   "source": [
    "In order to reduce overcomplication, only six nations of the many surveyed were chosen for this study. Countries were not randomly selected, and chosen based on geographical representation. "
   ]
  },
  {
   "cell_type": "code",
   "execution_count": 96,
   "metadata": {},
   "outputs": [
    {
     "data": {
      "text/plain": [
       "country_of_origin\n",
       "Mexico                          236\n",
       "Colombia                        183\n",
       "Guatemala                       181\n",
       "Brazil                          132\n",
       "Taiwan                           75\n",
       "United States (Hawaii)           73\n",
       "Honduras                         53\n",
       "Costa Rica                       51\n",
       "Ethiopia                         44\n",
       "Tanzania, United Republic Of     40\n",
       "Uganda                           36\n",
       "Thailand                         32\n",
       "Nicaragua                        26\n",
       "Kenya                            25\n",
       "El Salvador                      21\n",
       "Indonesia                        20\n",
       "China                            16\n",
       "India                            14\n",
       "Malawi                           11\n",
       "United States                    10\n",
       "Peru                             10\n",
       "Myanmar                           8\n",
       "Vietnam                           8\n",
       "Haiti                             6\n",
       "Philippines                       5\n",
       "United States (Puerto Rico)       4\n",
       "Panama                            4\n",
       "Ecuador                           3\n",
       "Laos                              3\n",
       "Burundi                           2\n",
       "Papua New Guinea                  1\n",
       "Rwanda                            1\n",
       "Zambia                            1\n",
       "Japan                             1\n",
       "Mauritius                         1\n",
       "Cote d?Ivoire                     1\n",
       "Name: count, dtype: int64"
      ]
     },
     "execution_count": 96,
     "metadata": {},
     "output_type": "execute_result"
    }
   ],
   "source": [
    "coffee['country_of_origin'].value_counts()"
   ]
  },
  {
   "cell_type": "code",
   "execution_count": 102,
   "metadata": {},
   "outputs": [
    {
     "data": {
      "text/plain": [
       "country_of_origin\n",
       "Mexico                          236\n",
       "Brazil                          132\n",
       "Taiwan                           75\n",
       "Ethiopia                         44\n",
       "Tanzania, United Republic Of     40\n",
       "Indonesia                        20\n",
       "Name: count, dtype: int64"
      ]
     },
     "execution_count": 102,
     "metadata": {},
     "output_type": "execute_result"
    }
   ],
   "source": [
    "top8 = coffee[coffee['country_of_origin'].isin(['Mexico',  \n",
    "                                         'Brazil', \n",
    "                                         'Taiwan',\n",
    "                                         'Ethiopia', \n",
    "                                         'Tanzania, United Republic Of',\n",
    "                                         'Indonesia'])]\n",
    "\n",
    "top8['country_of_origin'].replace('Tanzania, United Republic Of', 'Tanzania')\n",
    "\n",
    "top8['country_of_origin'].value_counts()"
   ]
  },
  {
   "cell_type": "code",
   "execution_count": 104,
   "metadata": {},
   "outputs": [
    {
     "name": "stdout",
     "output_type": "stream",
     "text": [
      "             Multiple Comparison of Means - Tukey HSD, FWER=0.05             \n",
      "=============================================================================\n",
      "  group1             group2            meandiff p-adj   lower   upper  reject\n",
      "-----------------------------------------------------------------------------\n",
      "   Brazil                     Ethiopia   0.4533    0.0  0.3038  0.6028   True\n",
      "   Brazil                    Indonesia   -0.025 0.9993 -0.2311   0.181  False\n",
      "   Brazil                       Mexico  -0.2125    0.0 -0.3058 -0.1191   True\n",
      "   Brazil                       Taiwan  -0.0451  0.905 -0.1692  0.0791  False\n",
      "   Brazil Tanzania, United Republic Of  -0.0155 0.9997 -0.1705  0.1395  False\n",
      " Ethiopia                    Indonesia  -0.4784    0.0 -0.7099 -0.2468   True\n",
      " Ethiopia                       Mexico  -0.6658    0.0 -0.8068 -0.5248   True\n",
      " Ethiopia                       Taiwan  -0.4984    0.0 -0.6615 -0.3353   True\n",
      " Ethiopia Tanzania, United Republic Of  -0.4689    0.0 -0.6565 -0.2813   True\n",
      "Indonesia                       Mexico  -0.1874 0.0808 -0.3874  0.0125  False\n",
      "Indonesia                       Taiwan    -0.02 0.9998 -0.2361  0.1961  False\n",
      "Indonesia Tanzania, United Republic Of   0.0095    1.0 -0.2257  0.2447  False\n",
      "   Mexico                       Taiwan   0.1674 0.0004  0.0536  0.2812   True\n",
      "   Mexico Tanzania, United Republic Of   0.1969 0.0019  0.0501  0.3438   True\n",
      "   Taiwan Tanzania, United Republic Of   0.0295 0.9961 -0.1386  0.1977  False\n",
      "-----------------------------------------------------------------------------\n"
     ]
    }
   ],
   "source": [
    "from statsmodels.stats.multicomp import pairwise_tukeyhsd\n",
    "sig = 0.05 # significance threshold\n",
    "tukey_results = pairwise_tukeyhsd(top8['aftertaste'], top8['country_of_origin'], sig)\n",
    "print(tukey_results)\n",
    "# under the “reject” column, if True, then there is a significant difference; if False, no significant difference."
   ]
  },
  {
   "cell_type": "code",
   "execution_count": 91,
   "metadata": {},
   "outputs": [
    {
     "name": "stdout",
     "output_type": "stream",
     "text": [
      "   Multiple Comparison of Means - Tukey HSD, FWER=0.05    \n",
      "==========================================================\n",
      "  group1    group2  meandiff p-adj   lower   upper  reject\n",
      "----------------------------------------------------------\n",
      "   Brazil  Ethiopia   0.5322    0.0  0.3957  0.6687   True\n",
      "   Brazil Indonesia  -0.0204 0.9996 -0.2087  0.1678  False\n",
      "   Brazil    Mexico  -0.0831  0.061 -0.1683  0.0022  False\n",
      "   Brazil    Taiwan   -0.096 0.1511 -0.2094  0.0174  False\n",
      "   Brazil  Tanzania  -0.0114 0.9999  -0.153  0.1301  False\n",
      " Ethiopia Indonesia  -0.5526    0.0 -0.7642 -0.3411   True\n",
      " Ethiopia    Mexico  -0.6153    0.0 -0.7441 -0.4865   True\n",
      " Ethiopia    Taiwan  -0.6282    0.0 -0.7771 -0.4792   True\n",
      " Ethiopia  Tanzania  -0.5436    0.0  -0.715 -0.3723   True\n",
      "Indonesia    Mexico  -0.0627 0.9239 -0.2453    0.12  False\n",
      "Indonesia    Taiwan  -0.0755 0.8836 -0.2729  0.1219  False\n",
      "Indonesia  Tanzania    0.009    1.0 -0.2058  0.2238  False\n",
      "   Mexico    Taiwan  -0.0129 0.9993 -0.1169  0.0911  False\n",
      "   Mexico  Tanzania   0.0717 0.6464 -0.0625  0.2058  False\n",
      "   Taiwan  Tanzania   0.0845  0.616  -0.069  0.2381  False\n",
      "----------------------------------------------------------\n"
     ]
    }
   ],
   "source": [
    "from statsmodels.stats.multicomp import pairwise_tukeyhsd\n",
    "sig = 0.05 # significance threshold\n",
    "tukey_results = pairwise_tukeyhsd(top8['acidity'], top8['country_of_origin'], sig)\n",
    "print(tukey_results)\n",
    "# under the “reject” column, if True, then there is a significant difference; if False, no significant difference."
   ]
  },
  {
   "cell_type": "code",
   "execution_count": 92,
   "metadata": {},
   "outputs": [
    {
     "name": "stdout",
     "output_type": "stream",
     "text": [
      "   Multiple Comparison of Means - Tukey HSD, FWER=0.05    \n",
      "==========================================================\n",
      "  group1    group2  meandiff p-adj   lower   upper  reject\n",
      "----------------------------------------------------------\n",
      "   Brazil  Ethiopia   0.4533    0.0  0.3038  0.6028   True\n",
      "   Brazil Indonesia   -0.025 0.9993 -0.2311   0.181  False\n",
      "   Brazil    Mexico  -0.2125    0.0 -0.3058 -0.1191   True\n",
      "   Brazil    Taiwan  -0.0451  0.905 -0.1692  0.0791  False\n",
      "   Brazil  Tanzania  -0.0155 0.9997 -0.1705  0.1395  False\n",
      " Ethiopia Indonesia  -0.4784    0.0 -0.7099 -0.2468   True\n",
      " Ethiopia    Mexico  -0.6658    0.0 -0.8068 -0.5248   True\n",
      " Ethiopia    Taiwan  -0.4984    0.0 -0.6615 -0.3353   True\n",
      " Ethiopia  Tanzania  -0.4689    0.0 -0.6565 -0.2813   True\n",
      "Indonesia    Mexico  -0.1874 0.0808 -0.3874  0.0125  False\n",
      "Indonesia    Taiwan    -0.02 0.9998 -0.2361  0.1961  False\n",
      "Indonesia  Tanzania   0.0095    1.0 -0.2257  0.2447  False\n",
      "   Mexico    Taiwan   0.1674 0.0004  0.0536  0.2812   True\n",
      "   Mexico  Tanzania   0.1969 0.0019  0.0501  0.3438   True\n",
      "   Taiwan  Tanzania   0.0295 0.9961 -0.1386  0.1977  False\n",
      "----------------------------------------------------------\n"
     ]
    }
   ],
   "source": [
    "from statsmodels.stats.multicomp import pairwise_tukeyhsd\n",
    "sig = 0.05 # significance threshold\n",
    "tukey_results = pairwise_tukeyhsd(top8['aftertaste'], top8['country_of_origin'], sig)\n",
    "print(tukey_results)\n",
    "# under the “reject” column, if True, then there is a significant difference; if False, no significant difference."
   ]
  },
  {
   "cell_type": "markdown",
   "metadata": {},
   "source": [
    "## Overall Takeaways and Answers"
   ]
  },
  {
   "cell_type": "markdown",
   "metadata": {},
   "source": [
    "#### **What palate-related variable has the highest correlation with score?**\n",
    "\n",
    "* 'aftertaste' has the highest correlation with score. The scikit-learn linear regression coefficient score for aftertaste is 1.967."
   ]
  },
  {
   "cell_type": "markdown",
   "metadata": {},
   "source": [
    "#### **Are there statistically significant diferences in taste quantifications with respect to diferent countries of origin?**\n",
    "\n",
    "Statistically significant differences were found between the scores of the following nations under the forementioned categories:\n",
    "\n",
    "(Bold text indicates the nation(s) with significantly higher scores than their counterpart nations in their respective categories)\n",
    "\n",
    "aftertaste:\n",
    "\n",
    "- **Brazil** and Ethiopia\n",
    "- Brazil and **Mexico**\n",
    "- Ethiopia and **Indonesia**, **Mexico**, **Taiwan** and **Tanzania**\n",
    "- **Mexico** and Taiwan, Tanzania\n",
    "\n",
    "acidity:\n",
    "\n",
    "- **Brazil** and Ethiopia\n",
    "- Ethiopia and **Indonesia**, **Mexico**, **Taiwan** and **Tanzania**\n",
    "\n",
    "aftertaste:\n",
    "\n",
    "- **Brazil** and Ethiopia\n",
    "- Brazil and **Mexico**\n",
    "- Ethiopia and **Indonesia**, **Mexico**, **Taiwan** and **Tanzania**\n",
    "- **Mexico** and Taiwan, Tanzania"
   ]
  },
  {
   "cell_type": "markdown",
   "metadata": {},
   "source": [
    "#### **Is there a correlation between altitude and certain taste quantifications?**\n",
    "\n",
    "* Answer here"
   ]
  },
  {
   "cell_type": "markdown",
   "metadata": {},
   "source": []
  }
 ],
 "metadata": {
  "kernelspec": {
   "display_name": "Python 3 (ipykernel)",
   "language": "python",
   "name": "python3"
  },
  "language_info": {
   "codemirror_mode": {
    "name": "ipython",
    "version": 3
   },
   "file_extension": ".py",
   "mimetype": "text/x-python",
   "name": "python",
   "nbconvert_exporter": "python",
   "pygments_lexer": "ipython3",
   "version": "3.12.4"
  }
 },
 "nbformat": 4,
 "nbformat_minor": 4
}
